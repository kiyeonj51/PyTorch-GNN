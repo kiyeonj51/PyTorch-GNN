{
 "cells": [
  {
   "cell_type": "code",
   "execution_count": 9,
   "metadata": {},
   "outputs": [
    {
     "data": {
      "text/html": [
       "\n",
       "        <iframe\n",
       "            width=\"500px\"\n",
       "            height=\"500px\"\n",
       "            src=\"cora.html\"\n",
       "            frameborder=\"0\"\n",
       "            allowfullscreen\n",
       "        ></iframe>\n",
       "        "
      ],
      "text/plain": [
       "<IPython.lib.display.IFrame at 0x7fe8e81e2ee0>"
      ]
     },
     "execution_count": 9,
     "metadata": {},
     "output_type": "execute_result"
    }
   ],
   "source": [
    "import os\n",
    "import numpy as np\n",
    "from pyvis.network import Network\n",
    "\n",
    "path= os.getcwd()+ \"/../data/cora/\"\n",
    "dataset=\"cora\"\n",
    "\n",
    "idx_features_labels = np.genfromtxt(f\"{path}{dataset}.content\", dtype=np.dtype(str))\n",
    "edges_unordered = np.genfromtxt(f\"{path}{dataset}.cites\",dtype=int)\n",
    "\n",
    "idx = np.array(idx_features_labels[:, 0], dtype=int)\n",
    "idx_map = {j: i for i, j in enumerate(idx)}\n",
    "labels = list(idx_features_labels[:, -1])\n",
    "\n",
    "edges = np.array(list(map(idx_map.get, edges_unordered.flatten())),dtype=int).reshape(edges_unordered.shape)\n",
    "\n",
    "color = ['#f09494', '#eebcbc', '#72bbd0', '#91f0a1', '#629fff', '#bcc2f2', '#eebcbc']\n",
    "color_map = {label: color[i] for i, label in enumerate(set(labels))}\n",
    "colors = np.array([color_map[label] for label in labels])\n",
    "\n",
    "num_node = 500\n",
    "net = Network(heading=\"cora\", notebook=True)\n",
    "net.add_nodes(list(range(len(labels[:num_node]))),\n",
    "              label=labels[:num_node],\n",
    "              color=colors[:num_node])\n",
    "\n",
    "for edge in edges:\n",
    "    if edge[0]<num_node and edge[1]<num_node:\n",
    "        net.add_edge(int(edge[0]),int(edge[1]))\n",
    "net.show_buttons(filter_=['edges'])\n",
    "net.show(\"cora.html\")\n"
   ]
  },
  {
   "cell_type": "code",
   "execution_count": null,
   "metadata": {
    "pycharm": {
     "name": "#%%\n"
    }
   },
   "outputs": [],
   "source": []
  },
  {
   "cell_type": "code",
   "execution_count": null,
   "metadata": {},
   "outputs": [],
   "source": []
  }
 ],
 "metadata": {
  "kernelspec": {
   "display_name": "Python 3",
   "language": "python",
   "name": "python3"
  },
  "language_info": {
   "codemirror_mode": {
    "name": "ipython",
    "version": 3
   },
   "file_extension": ".py",
   "mimetype": "text/x-python",
   "name": "python",
   "nbconvert_exporter": "python",
   "pygments_lexer": "ipython3",
   "version": "3.8.5"
  }
 },
 "nbformat": 4,
 "nbformat_minor": 1
}
